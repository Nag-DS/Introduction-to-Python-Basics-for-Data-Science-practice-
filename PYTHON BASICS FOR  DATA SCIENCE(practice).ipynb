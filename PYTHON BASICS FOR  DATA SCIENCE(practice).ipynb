{
  "nbformat": 4,
  "nbformat_minor": 0,
  "metadata": {
    "colab": {
      "provenance": [],
      "toc_visible": true
    },
    "kernelspec": {
      "name": "python3",
      "display_name": "Python 3"
    },
    "language_info": {
      "name": "python"
    }
  },
  "cells": [
    {
      "cell_type": "markdown",
      "source": [
        "### **PYTHON BASICS FOR DATA SCIENCE**\n",
        " Nagendrababu A\n"
      ],
      "metadata": {
        "id": "jitqykpwzRHp"
      }
    },
    {
      "cell_type": "markdown",
      "source": [
        "# Arithmetic Operators"
      ],
      "metadata": {
        "id": "GylAnKndbeyG"
      }
    },
    {
      "cell_type": "code",
      "source": [
        "a=10\n",
        "b=2\n",
        "print(f\"a+b:\",{a+b}) #12\n",
        "print(f\"a-b:\",{a-b}) #8\n",
        "print(f\"b**2\",{b**2})#4\n",
        "print(f\"a*b:\",{a*b})#20\n",
        "print(f\"a/b:\",{a/b})#5\n",
        "print(f\"a//b:\",{a//b})#5\n",
        "print(f\"a%b:\",{a%b})\n"
      ],
      "metadata": {
        "colab": {
          "base_uri": "https://localhost:8080/"
        },
        "id": "tAHvI6focwRW",
        "outputId": "b0a0cb6b-6695-4b99-df5a-24e6f6cf54f4"
      },
      "execution_count": null,
      "outputs": [
        {
          "output_type": "stream",
          "name": "stdout",
          "text": [
            "a+b: {12}\n",
            "a-b: {8}\n",
            "b**2 {4}\n",
            "a*b: {20}\n",
            "a/b: {5.0}\n",
            "a//b: {5}\n",
            "a%b: {0}\n"
          ]
        }
      ]
    },
    {
      "cell_type": "code",
      "source": [
        "print(10%2)#0\n",
        "print(15%6)#3\n",
        "print(24%7)#3\n",
        "print(25%4)#1\n",
        "print(42%8)#2"
      ],
      "metadata": {
        "colab": {
          "base_uri": "https://localhost:8080/"
        },
        "id": "G-K99X6mdt7y",
        "outputId": "ed90ac62-c398-437c-b6eb-e638bd34eed2"
      },
      "execution_count": null,
      "outputs": [
        {
          "output_type": "stream",
          "name": "stdout",
          "text": [
            "0\n",
            "3\n",
            "3\n",
            "1\n",
            "2\n"
          ]
        }
      ]
    },
    {
      "cell_type": "markdown",
      "source": [
        "# Comparison Operator"
      ],
      "metadata": {
        "id": "Iq3pt1N7fzJ0"
      }
    },
    {
      "cell_type": "code",
      "source": [
        "2>3"
      ],
      "metadata": {
        "colab": {
          "base_uri": "https://localhost:8080/"
        },
        "id": "ye2JfsvhfkZz",
        "outputId": "348e121a-558e-4352-e2aa-2689bbc1cdf8"
      },
      "execution_count": null,
      "outputs": [
        {
          "output_type": "execute_result",
          "data": {
            "text/plain": [
              "False"
            ]
          },
          "metadata": {},
          "execution_count": 21
        }
      ]
    },
    {
      "cell_type": "code",
      "source": [
        "3>2"
      ],
      "metadata": {
        "colab": {
          "base_uri": "https://localhost:8080/"
        },
        "id": "Uz5qt0ZLgHG3",
        "outputId": "cf3dc2b7-2aac-4fb1-eab3-1609bb2142f7"
      },
      "execution_count": null,
      "outputs": [
        {
          "output_type": "execute_result",
          "data": {
            "text/plain": [
              "True"
            ]
          },
          "metadata": {},
          "execution_count": 22
        }
      ]
    },
    {
      "cell_type": "code",
      "source": [
        "print(10>5)#true\n",
        "print(4>2)#true\n",
        "print(\"babu\" > \"babn\")#true\n",
        "print(\"a\" > \"z\")#false\n",
        "print(\"z\"<\"a\")#false\n",
        "print(0>1)#false\n",
        "print(2 >= 4)#false\n",
        "print(4<=5)#true\n",
        "print(44 != 22)#true\n"
      ],
      "metadata": {
        "colab": {
          "base_uri": "https://localhost:8080/"
        },
        "id": "nSNLbZj3gJmg",
        "outputId": "9b119f9e-b827-4a2f-ae3d-3fd1ec28bc7f"
      },
      "execution_count": null,
      "outputs": [
        {
          "output_type": "stream",
          "name": "stdout",
          "text": [
            "True\n",
            "True\n",
            "True\n",
            "False\n",
            "False\n",
            "False\n",
            "False\n",
            "True\n",
            "True\n"
          ]
        }
      ]
    },
    {
      "cell_type": "markdown",
      "source": [
        "# Logical Operator"
      ],
      "metadata": {
        "id": "OCYvw68HhcN7"
      }
    },
    {
      "cell_type": "code",
      "source": [
        "print(2<1 or 2>1) #this returns one statement is true\n",
        "print(4<5 and 4==4) #this returns wen both statement is true\n",
        "print(\"----> WOW AMAZING PYTHON CODE TO LEARN VERY INTERSTING LETS SEE NEXT STEPS <----\")"
      ],
      "metadata": {
        "colab": {
          "base_uri": "https://localhost:8080/"
        },
        "id": "RtGoJf__hBMn",
        "outputId": "998bb168-6293-42b1-e1cd-e9dfd357bcba"
      },
      "execution_count": null,
      "outputs": [
        {
          "output_type": "stream",
          "name": "stdout",
          "text": [
            "True\n",
            "True\n",
            "----> WOW AMAZING PYTHON CODE TO LEARN VERY INTERSTING LETS SEE NEXT STEPS <----\n"
          ]
        }
      ]
    },
    {
      "cell_type": "markdown",
      "source": [
        "# Input and Output in Python"
      ],
      "metadata": {
        "id": "eYK55om6jJaP"
      }
    },
    {
      "cell_type": "code",
      "source": [
        "age=input(\"what is your age? \\n\")"
      ],
      "metadata": {
        "colab": {
          "base_uri": "https://localhost:8080/"
        },
        "id": "Q5L9XKWVhrZW",
        "outputId": "19fef9e6-0dea-4ea0-c0db-5e2ac8eec9e2"
      },
      "execution_count": null,
      "outputs": [
        {
          "name": "stdout",
          "output_type": "stream",
          "text": [
            "what is your age? \n",
            "23\n"
          ]
        }
      ]
    },
    {
      "cell_type": "code",
      "source": [
        "type(age)"
      ],
      "metadata": {
        "colab": {
          "base_uri": "https://localhost:8080/"
        },
        "id": "KYhuWws1jTdJ",
        "outputId": "7c272e5d-0334-457f-d74e-d601b6a86293"
      },
      "execution_count": null,
      "outputs": [
        {
          "output_type": "execute_result",
          "data": {
            "text/plain": [
              "str"
            ]
          },
          "metadata": {},
          "execution_count": 34
        }
      ]
    },
    {
      "cell_type": "code",
      "source": [
        "x = 36 / 4 * (3 + 2) * 4 + 2 #8*5*4+2\n",
        "print(x)"
      ],
      "metadata": {
        "colab": {
          "base_uri": "https://localhost:8080/"
        },
        "id": "_FQVuHXFj9aa",
        "outputId": "359ca40f-85f7-4460-d223-b742134423d2"
      },
      "execution_count": null,
      "outputs": [
        {
          "output_type": "stream",
          "name": "stdout",
          "text": [
            "182.0\n"
          ]
        }
      ]
    },
    {
      "cell_type": "code",
      "source": [
        "36/4"
      ],
      "metadata": {
        "colab": {
          "base_uri": "https://localhost:8080/"
        },
        "id": "uuVchSspkjFT",
        "outputId": "1e6ac638-8bc7-46c4-9fba-fce60e6418b6"
      },
      "execution_count": null,
      "outputs": [
        {
          "output_type": "execute_result",
          "data": {
            "text/plain": [
              "9.0"
            ]
          },
          "metadata": {},
          "execution_count": 36
        }
      ]
    },
    {
      "cell_type": "code",
      "source": [
        "45*4"
      ],
      "metadata": {
        "colab": {
          "base_uri": "https://localhost:8080/"
        },
        "id": "44qOLRuokniD",
        "outputId": "386d25a1-58b3-4a14-8428-fb31a04c650a"
      },
      "execution_count": null,
      "outputs": [
        {
          "output_type": "execute_result",
          "data": {
            "text/plain": [
              "180"
            ]
          },
          "metadata": {},
          "execution_count": 37
        }
      ]
    },
    {
      "cell_type": "code",
      "source": [
        "2*2**3"
      ],
      "metadata": {
        "colab": {
          "base_uri": "https://localhost:8080/"
        },
        "id": "jChiWhW9kuUv",
        "outputId": "015bd503-8766-4109-99d8-a3801619fe34"
      },
      "execution_count": null,
      "outputs": [
        {
          "output_type": "execute_result",
          "data": {
            "text/plain": [
              "16"
            ]
          },
          "metadata": {},
          "execution_count": 38
        }
      ]
    },
    {
      "cell_type": "code",
      "source": [
        "a=5\n",
        "b=16\n",
        "print(a+b)\n",
        "\n"
      ],
      "metadata": {
        "colab": {
          "base_uri": "https://localhost:8080/"
        },
        "id": "A9Ctjoz-lAXu",
        "outputId": "147f8850-e49e-4fe4-fa5e-987d4aeb558f"
      },
      "execution_count": null,
      "outputs": [
        {
          "output_type": "stream",
          "name": "stdout",
          "text": [
            "21\n"
          ]
        }
      ]
    },
    {
      "cell_type": "markdown",
      "source": [
        "# Data Structures & Data Types in Python"
      ],
      "metadata": {
        "id": "ONMmrrK9vrug"
      }
    },
    {
      "cell_type": "code",
      "source": [
        "a=5\n",
        "type(a)"
      ],
      "metadata": {
        "colab": {
          "base_uri": "https://localhost:8080/"
        },
        "id": "dU5NQYaDlmET",
        "outputId": "320abee5-0597-43c3-9276-0eb73e8098de"
      },
      "execution_count": null,
      "outputs": [
        {
          "output_type": "execute_result",
          "data": {
            "text/plain": [
              "int"
            ]
          },
          "metadata": {},
          "execution_count": 44
        }
      ]
    },
    {
      "cell_type": "code",
      "source": [
        "b=2.5\n",
        "type(b)"
      ],
      "metadata": {
        "colab": {
          "base_uri": "https://localhost:8080/"
        },
        "id": "62tkuCyPv-eL",
        "outputId": "74080fd9-9bc7-494c-8f78-dfc15458df39"
      },
      "execution_count": null,
      "outputs": [
        {
          "output_type": "execute_result",
          "data": {
            "text/plain": [
              "float"
            ]
          },
          "metadata": {},
          "execution_count": 45
        }
      ]
    },
    {
      "cell_type": "code",
      "source": [
        "c=\"hello world\"\n",
        "type(c)"
      ],
      "metadata": {
        "colab": {
          "base_uri": "https://localhost:8080/"
        },
        "id": "XK7P9_cGwBwF",
        "outputId": "82bb7e16-a79a-4bc1-e45b-44fa5fe9ae68"
      },
      "execution_count": null,
      "outputs": [
        {
          "output_type": "execute_result",
          "data": {
            "text/plain": [
              "str"
            ]
          },
          "metadata": {},
          "execution_count": 46
        }
      ]
    },
    {
      "cell_type": "code",
      "source": [
        "d=True\n",
        "type(d)"
      ],
      "metadata": {
        "colab": {
          "base_uri": "https://localhost:8080/"
        },
        "id": "CfL4AlMFwHDy",
        "outputId": "336e5a00-fd72-4745-fcf7-7de263295280"
      },
      "execution_count": null,
      "outputs": [
        {
          "output_type": "execute_result",
          "data": {
            "text/plain": [
              "bool"
            ]
          },
          "metadata": {},
          "execution_count": 47
        }
      ]
    },
    {
      "cell_type": "code",
      "source": [
        "a=\"hello world\"\n",
        "print(a[0])"
      ],
      "metadata": {
        "colab": {
          "base_uri": "https://localhost:8080/"
        },
        "id": "a1YyRgiXwPOA",
        "outputId": "071c95f8-e54a-4ae2-b9da-f4b8adf94841"
      },
      "execution_count": null,
      "outputs": [
        {
          "output_type": "stream",
          "name": "stdout",
          "text": [
            "h\n"
          ]
        }
      ]
    },
    {
      "cell_type": "code",
      "source": [
        "b=\"nagendrababu\"\n",
        "print(b[4:5])"
      ],
      "metadata": {
        "colab": {
          "base_uri": "https://localhost:8080/"
        },
        "id": "6oZyCQytyG2P",
        "outputId": "6eb33670-a965-49df-84f0-2d84f2a88b73"
      },
      "execution_count": null,
      "outputs": [
        {
          "output_type": "stream",
          "name": "stdout",
          "text": [
            "n\n"
          ]
        }
      ]
    },
    {
      "cell_type": "code",
      "source": [
        "#string concatenation\n",
        "a=\"ab\"+ 'cd'\n",
        "a\n"
      ],
      "metadata": {
        "colab": {
          "base_uri": "https://localhost:8080/",
          "height": 36
        },
        "id": "0CQ64Fz8y8QD",
        "outputId": "bf76c407-1383-45bb-be52-7a38e1a7a5cf"
      },
      "execution_count": null,
      "outputs": [
        {
          "output_type": "execute_result",
          "data": {
            "text/plain": [
              "'abcd'"
            ],
            "application/vnd.google.colaboratory.intrinsic+json": {
              "type": "string"
            }
          },
          "metadata": {},
          "execution_count": 55
        }
      ]
    },
    {
      "cell_type": "code",
      "source": [
        "x=\"my name is \"\n",
        "y=\"nagendra\"\n",
        "print(x+\"---> \" +y)\n"
      ],
      "metadata": {
        "colab": {
          "base_uri": "https://localhost:8080/"
        },
        "id": "8gJJ-2Plzt3i",
        "outputId": "78b512c1-b09a-4aa4-fb6e-8857208fbc94"
      },
      "execution_count": null,
      "outputs": [
        {
          "output_type": "stream",
          "name": "stdout",
          "text": [
            "my name is ---> nagendra\n"
          ]
        }
      ]
    },
    {
      "cell_type": "code",
      "source": [
        "a=\"NAGENDRABABU\"\n",
        "print(len(a))"
      ],
      "metadata": {
        "colab": {
          "base_uri": "https://localhost:8080/"
        },
        "id": "OySMZhwVz-bJ",
        "outputId": "72e882a3-ea80-43e2-ade4-66e89134d8fb"
      },
      "execution_count": null,
      "outputs": [
        {
          "output_type": "stream",
          "name": "stdout",
          "text": [
            "12\n"
          ]
        }
      ]
    },
    {
      "cell_type": "code",
      "source": [
        "txt = \"She said \\\"Never let go\\\".\"\n",
        "print(txt)"
      ],
      "metadata": {
        "colab": {
          "base_uri": "https://localhost:8080/"
        },
        "id": "pHKjA9981PMm",
        "outputId": "0608f3c2-af3f-464f-8ff6-26f70e99a3e2"
      },
      "execution_count": null,
      "outputs": [
        {
          "output_type": "stream",
          "name": "stdout",
          "text": [
            "She said \"Never let go\".\n"
          ]
        }
      ]
    },
    {
      "cell_type": "code",
      "source": [
        "txt=\"as iam nagendra @ babu ! iam # nagndra\"\n",
        "print(txt)"
      ],
      "metadata": {
        "colab": {
          "base_uri": "https://localhost:8080/"
        },
        "id": "4IFgidW51bPS",
        "outputId": "7a0888b9-2ca4-4f99-b73a-9ecdc78d671c"
      },
      "execution_count": null,
      "outputs": [
        {
          "output_type": "stream",
          "name": "stdout",
          "text": [
            "as iam nagendra @ babu ! iam # nagndra\n"
          ]
        }
      ]
    },
    {
      "cell_type": "code",
      "source": [
        "name=\"babu, malli, chandra, \""
      ],
      "metadata": {
        "id": "uaq071nw1xre"
      },
      "execution_count": null,
      "outputs": []
    },
    {
      "cell_type": "code",
      "source": [
        "print('babu' in name)\n",
        "print('c' in name)\n",
        "print('y'in name)\n",
        "print('a' in name)"
      ],
      "metadata": {
        "colab": {
          "base_uri": "https://localhost:8080/"
        },
        "id": "KbAK_sHk2RMY",
        "outputId": "fd3c1d00-9374-45c8-b546-c82dbb6c244f"
      },
      "execution_count": null,
      "outputs": [
        {
          "output_type": "stream",
          "name": "stdout",
          "text": [
            "True\n",
            "True\n",
            "False\n",
            "True\n"
          ]
        }
      ]
    },
    {
      "cell_type": "code",
      "source": [
        "str=\"babu\"\n",
        "for letter in str:\n",
        "  print(letter)"
      ],
      "metadata": {
        "colab": {
          "base_uri": "https://localhost:8080/"
        },
        "id": "4vKj0lVu2VzJ",
        "outputId": "1a605fc0-805b-4025-a35b-e8ad1ebbc47f"
      },
      "execution_count": null,
      "outputs": [
        {
          "output_type": "stream",
          "name": "stdout",
          "text": [
            "b\n",
            "a\n",
            "b\n",
            "u\n"
          ]
        }
      ]
    },
    {
      "cell_type": "code",
      "source": [
        "length=len(\"hello\")\n",
        "length"
      ],
      "metadata": {
        "colab": {
          "base_uri": "https://localhost:8080/"
        },
        "id": "zhGeVVrx3Zdk",
        "outputId": "d76f75e8-debf-4af9-cb5e-c2f3c84e7050"
      },
      "execution_count": null,
      "outputs": [
        {
          "output_type": "execute_result",
          "data": {
            "text/plain": [
              "5"
            ]
          },
          "metadata": {},
          "execution_count": 73
        }
      ]
    },
    {
      "cell_type": "code",
      "source": [
        "color=[\"red\",\"white\",\"blue\",\"green\"]\n",
        "print(len(color))"
      ],
      "metadata": {
        "colab": {
          "base_uri": "https://localhost:8080/"
        },
        "id": "4xnzP9Yr30bs",
        "outputId": "2cbd3ae0-a56e-4549-eeb6-79a52e07b02e"
      },
      "execution_count": null,
      "outputs": [
        {
          "output_type": "stream",
          "name": "stdout",
          "text": [
            "4\n"
          ]
        }
      ]
    },
    {
      "cell_type": "code",
      "source": [
        "msg=\"iam {} from {}\"\n",
        "msg.format(\"nagendra\",\"bellary\")"
      ],
      "metadata": {
        "colab": {
          "base_uri": "https://localhost:8080/",
          "height": 36
        },
        "id": "3xZsrM1x4TfM",
        "outputId": "5eb8e43f-d2be-44b3-bc40-96948450adcf"
      },
      "execution_count": null,
      "outputs": [
        {
          "output_type": "execute_result",
          "data": {
            "text/plain": [
              "'iam nagendra from bellary'"
            ],
            "application/vnd.google.colaboratory.intrinsic+json": {
              "type": "string"
            }
          },
          "metadata": {},
          "execution_count": 76
        }
      ]
    },
    {
      "cell_type": "code",
      "source": [
        "msg3=\"i want speak {}\"\n",
        "msg3.format(\"her\")"
      ],
      "metadata": {
        "colab": {
          "base_uri": "https://localhost:8080/",
          "height": 36
        },
        "id": "Xoz9bltG5IgZ",
        "outputId": "25d2835e-bb74-41b2-8a11-a2ab89ba4234"
      },
      "execution_count": null,
      "outputs": [
        {
          "output_type": "execute_result",
          "data": {
            "text/plain": [
              "'i want speak her'"
            ],
            "application/vnd.google.colaboratory.intrinsic+json": {
              "type": "string"
            }
          },
          "metadata": {},
          "execution_count": 77
        }
      ]
    },
    {
      "cell_type": "code",
      "source": [
        "name='   welcome to the python'\n",
        "print(name.lower())\n",
        "print(name.upper())\n",
        "print(name.strip())\n",
        "print(name.title())"
      ],
      "metadata": {
        "colab": {
          "base_uri": "https://localhost:8080/"
        },
        "id": "mQv2ktfH5hDK",
        "outputId": "89df8702-dfb3-4f52-b707-1858f38f499a"
      },
      "execution_count": null,
      "outputs": [
        {
          "output_type": "stream",
          "name": "stdout",
          "text": [
            "   welcome to the python\n",
            "   WELCOME TO THE PYTHON\n",
            "welcome to the python\n",
            "   Welcome To The Python\n"
          ]
        }
      ]
    },
    {
      "cell_type": "code",
      "source": [
        "message='   wt is meant by strip    '\n",
        "print(message)\n",
        "print(message.strip())"
      ],
      "metadata": {
        "colab": {
          "base_uri": "https://localhost:8080/"
        },
        "id": "ZhfoaITNBXUi",
        "outputId": "5df8ac5a-b722-48c8-a214-20f0544925e9"
      },
      "execution_count": null,
      "outputs": [
        {
          "output_type": "stream",
          "name": "stdout",
          "text": [
            "   wt is meant by strip    \n",
            "wt is meant by strip\n"
          ]
        }
      ]
    },
    {
      "cell_type": "code",
      "source": [
        "text2='....+....babu....-....'\n",
        "text2.strip('+--')"
      ],
      "metadata": {
        "colab": {
          "base_uri": "https://localhost:8080/",
          "height": 36
        },
        "id": "YXuxBkE6Bt04",
        "outputId": "79fc29ef-6d86-4273-b349-1dd50bcc0aa5"
      },
      "execution_count": null,
      "outputs": [
        {
          "output_type": "execute_result",
          "data": {
            "text/plain": [
              "'....+....babu....-....'"
            ],
            "application/vnd.google.colaboratory.intrinsic+json": {
              "type": "string"
            }
          },
          "metadata": {},
          "execution_count": 105
        }
      ]
    },
    {
      "cell_type": "code",
      "source": [
        "x=\"The string method .split() splits a string into a list of items:\"\n",
        "for letter in x.split():\n",
        "  if len(letter)%2 ==0:\n",
        "    print(f\"even {letter}\")\n",
        "  else:\n",
        "    pass"
      ],
      "metadata": {
        "colab": {
          "base_uri": "https://localhost:8080/"
        },
        "id": "-PbuDATLCrh0",
        "outputId": "c0eca1e4-8bdb-40a6-91b3-8b01d0f47a73"
      },
      "execution_count": null,
      "outputs": [
        {
          "output_type": "stream",
          "name": "stdout",
          "text": [
            "even string\n",
            "even method\n",
            "even .split()\n",
            "even splits\n",
            "even string\n",
            "even into\n",
            "even list\n",
            "even of\n",
            "even items:\n"
          ]
        }
      ]
    },
    {
      "cell_type": "markdown",
      "source": [
        "# **List Methods**"
      ],
      "metadata": {
        "id": "3vz7uqPhAETP"
      }
    },
    {
      "cell_type": "code",
      "source": [
        "order=[\"mango\",\"banana\",\"apple\"]\n",
        "order.append(\"grapes\")\n",
        "print(order)\n",
        "print(order.pop())\n",
        "print(order.count(\"mango\"))\n",
        "print(len(order))\n",
        "print(order.sort())"
      ],
      "metadata": {
        "colab": {
          "base_uri": "https://localhost:8080/"
        },
        "id": "WWGIbbGwAChz",
        "outputId": "4f3bd1e3-e14c-44b1-aa0b-69945b05545d"
      },
      "execution_count": 8,
      "outputs": [
        {
          "output_type": "stream",
          "name": "stdout",
          "text": [
            "['mango', 'banana', 'apple', 'grapes']\n",
            "grapes\n",
            "1\n",
            "3\n",
            "None\n"
          ]
        }
      ]
    },
    {
      "cell_type": "code",
      "source": [
        "l2=([4,3,2,1])\n",
        "l2.sort()\n",
        "print(l2)"
      ],
      "metadata": {
        "id": "wET04XB3Dvso",
        "colab": {
          "base_uri": "https://localhost:8080/"
        },
        "outputId": "81eceb3a-3d20-47d7-e477-b352ffbfac6c"
      },
      "execution_count": 9,
      "outputs": [
        {
          "output_type": "stream",
          "name": "stdout",
          "text": [
            "[1, 2, 3, 4]\n"
          ]
        }
      ]
    },
    {
      "cell_type": "code",
      "source": [
        "tup = (4, 5, 6, 7, 8)\n",
        "tup[2] = 10\n",
        "print(tup[2])"
      ],
      "metadata": {
        "colab": {
          "base_uri": "https://localhost:8080/",
          "height": 200
        },
        "id": "-Y07VbNdBvXh",
        "outputId": "3cb7b67e-af21-449e-c42c-136ae6821863"
      },
      "execution_count": 15,
      "outputs": [
        {
          "output_type": "error",
          "ename": "TypeError",
          "evalue": "ignored",
          "traceback": [
            "\u001b[0;31m---------------------------------------------------------------------------\u001b[0m",
            "\u001b[0;31mTypeError\u001b[0m                                 Traceback (most recent call last)",
            "\u001b[0;32m<ipython-input-15-1247734b0d0e>\u001b[0m in \u001b[0;36m<module>\u001b[0;34m\u001b[0m\n\u001b[1;32m      1\u001b[0m \u001b[0mtup\u001b[0m \u001b[0;34m=\u001b[0m \u001b[0;34m(\u001b[0m\u001b[0;36m4\u001b[0m\u001b[0;34m,\u001b[0m \u001b[0;36m5\u001b[0m\u001b[0;34m,\u001b[0m \u001b[0;36m6\u001b[0m\u001b[0;34m,\u001b[0m \u001b[0;36m7\u001b[0m\u001b[0;34m,\u001b[0m \u001b[0;36m8\u001b[0m\u001b[0;34m)\u001b[0m\u001b[0;34m\u001b[0m\u001b[0;34m\u001b[0m\u001b[0m\n\u001b[0;32m----> 2\u001b[0;31m \u001b[0mtup\u001b[0m\u001b[0;34m[\u001b[0m\u001b[0;36m2\u001b[0m\u001b[0;34m]\u001b[0m \u001b[0;34m=\u001b[0m \u001b[0;36m10\u001b[0m\u001b[0;34m\u001b[0m\u001b[0;34m\u001b[0m\u001b[0m\n\u001b[0m\u001b[1;32m      3\u001b[0m \u001b[0mprint\u001b[0m\u001b[0;34m(\u001b[0m\u001b[0mtup\u001b[0m\u001b[0;34m[\u001b[0m\u001b[0;36m2\u001b[0m\u001b[0;34m]\u001b[0m\u001b[0;34m)\u001b[0m\u001b[0;34m\u001b[0m\u001b[0;34m\u001b[0m\u001b[0m\n",
            "\u001b[0;31mTypeError\u001b[0m: 'tuple' object does not support item assignment"
          ]
        }
      ]
    },
    {
      "cell_type": "code",
      "source": [
        "num=[1,2,3]"
      ],
      "metadata": {
        "id": "5jwLA1mVDQmV"
      },
      "execution_count": 1,
      "outputs": []
    },
    {
      "cell_type": "code",
      "source": [
        "num.append(10)"
      ],
      "metadata": {
        "id": "KjxFlY_bW6Mg"
      },
      "execution_count": 2,
      "outputs": []
    },
    {
      "cell_type": "code",
      "source": [
        "num"
      ],
      "metadata": {
        "colab": {
          "base_uri": "https://localhost:8080/"
        },
        "id": "AdNun8VbW8Ub",
        "outputId": "694001a9-cd56-4183-87fe-98739f3ced70"
      },
      "execution_count": 3,
      "outputs": [
        {
          "output_type": "execute_result",
          "data": {
            "text/plain": [
              "[1, 2, 3, 10]"
            ]
          },
          "metadata": {},
          "execution_count": 3
        }
      ]
    },
    {
      "cell_type": "code",
      "source": [
        "num.count(1)"
      ],
      "metadata": {
        "colab": {
          "base_uri": "https://localhost:8080/"
        },
        "id": "pynqgcUnW98u",
        "outputId": "99045cd4-119b-4e4b-f67a-5840d3942ae8"
      },
      "execution_count": 5,
      "outputs": [
        {
          "output_type": "execute_result",
          "data": {
            "text/plain": [
              "1"
            ]
          },
          "metadata": {},
          "execution_count": 5
        }
      ]
    },
    {
      "cell_type": "code",
      "source": [
        "num=list(range(1,11))\n",
        "print(num)\n"
      ],
      "metadata": {
        "colab": {
          "base_uri": "https://localhost:8080/"
        },
        "id": "tox4ODRGXBWz",
        "outputId": "9bf09eb4-da05-4b69-988c-5fdaecc545a1"
      },
      "execution_count": 9,
      "outputs": [
        {
          "output_type": "stream",
          "name": "stdout",
          "text": [
            "[1, 2, 3, 4, 5, 6, 7, 8, 9, 10]\n"
          ]
        }
      ]
    },
    {
      "cell_type": "code",
      "source": [
        "num=([3,2,1,4,5,6,7,8,9,5,2,1,4,5,6,3,2,1,5])\n",
        "num.sort()\n",
        "print(\"sort func:\",num)\n",
        "print(\"*\"*50)\n",
        "print(\"count func:\",num.count(1))\n",
        "print(\"len func:\",len(num))\n",
        "print(\"append func:\",num.append(10))\n",
        "print(\"=\"*50)"
      ],
      "metadata": {
        "colab": {
          "base_uri": "https://localhost:8080/"
        },
        "id": "eNoprx0pXKNC",
        "outputId": "c0dae4e3-df19-4286-8906-152dd6728443"
      },
      "execution_count": 18,
      "outputs": [
        {
          "output_type": "stream",
          "name": "stdout",
          "text": [
            "sort func: [1, 1, 1, 2, 2, 2, 3, 3, 4, 4, 5, 5, 5, 5, 6, 6, 7, 8, 9]\n",
            "**************************************************\n",
            "count func: 3\n",
            "len func: 19\n",
            "append func: None\n",
            "==================================================\n"
          ]
        }
      ]
    },
    {
      "cell_type": "code",
      "source": [
        "t = (4, 4, 5, 3, 4, 2, 5, 6)\n",
        "print(t.count(4))\n",
        "print(len(t))\n",
        "print(length(t))"
      ],
      "metadata": {
        "colab": {
          "base_uri": "https://localhost:8080/",
          "height": 235
        },
        "id": "BzRysslsXK26",
        "outputId": "d12f70c7-ad22-4ac0-a3ef-9eede5544d57"
      },
      "execution_count": 28,
      "outputs": [
        {
          "output_type": "stream",
          "name": "stdout",
          "text": [
            "3\n",
            "8\n"
          ]
        },
        {
          "output_type": "error",
          "ename": "NameError",
          "evalue": "ignored",
          "traceback": [
            "\u001b[0;31m---------------------------------------------------------------------------\u001b[0m",
            "\u001b[0;31mNameError\u001b[0m                                 Traceback (most recent call last)",
            "\u001b[0;32m<ipython-input-28-64ea5446bd29>\u001b[0m in \u001b[0;36m<module>\u001b[0;34m\u001b[0m\n\u001b[1;32m      2\u001b[0m \u001b[0mprint\u001b[0m\u001b[0;34m(\u001b[0m\u001b[0mt\u001b[0m\u001b[0;34m.\u001b[0m\u001b[0mcount\u001b[0m\u001b[0;34m(\u001b[0m\u001b[0;36m4\u001b[0m\u001b[0;34m)\u001b[0m\u001b[0;34m)\u001b[0m\u001b[0;34m\u001b[0m\u001b[0;34m\u001b[0m\u001b[0m\n\u001b[1;32m      3\u001b[0m \u001b[0mprint\u001b[0m\u001b[0;34m(\u001b[0m\u001b[0mlen\u001b[0m\u001b[0;34m(\u001b[0m\u001b[0mt\u001b[0m\u001b[0;34m)\u001b[0m\u001b[0;34m)\u001b[0m\u001b[0;34m\u001b[0m\u001b[0;34m\u001b[0m\u001b[0m\n\u001b[0;32m----> 4\u001b[0;31m \u001b[0mprint\u001b[0m\u001b[0;34m(\u001b[0m\u001b[0mlength\u001b[0m\u001b[0;34m(\u001b[0m\u001b[0mt\u001b[0m\u001b[0;34m)\u001b[0m\u001b[0;34m)\u001b[0m\u001b[0;34m\u001b[0m\u001b[0;34m\u001b[0m\u001b[0m\n\u001b[0m",
            "\u001b[0;31mNameError\u001b[0m: name 'length' is not defined"
          ]
        }
      ]
    },
    {
      "cell_type": "code",
      "source": [
        "my_dict={\n",
        "    \"name\":\"Nagendrababu\",\n",
        "    \"age\":23,\n",
        "    \"study\":\"BE(mech.\",\n",
        "    \"sex\":\"male\"\n",
        "}\n",
        "name=my_dict.copy()\n",
        "print(name)"
      ],
      "metadata": {
        "colab": {
          "base_uri": "https://localhost:8080/"
        },
        "id": "yhV2YWMJZme9",
        "outputId": "38bc6905-f3e5-44a6-925a-5c6aa38cdf1a"
      },
      "execution_count": 36,
      "outputs": [
        {
          "output_type": "stream",
          "name": "stdout",
          "text": [
            "{'name': 'Nagendrababu', 'age': 23, 'study': 'BE(mech.', 'sex': 'male'}\n"
          ]
        }
      ]
    },
    {
      "cell_type": "code",
      "source": [
        "d={}\n",
        "d[\"babu\"]=23\n",
        "d[\"jai\"]=22\n",
        "d[\"dady\"]=40\n",
        "d[\"mom\"]=42\n",
        "print(d)"
      ],
      "metadata": {
        "colab": {
          "base_uri": "https://localhost:8080/"
        },
        "id": "NmSspC6BbvUc",
        "outputId": "f14e79db-d0d2-43e0-e099-f92dff994b99"
      },
      "execution_count": 41,
      "outputs": [
        {
          "output_type": "stream",
          "name": "stdout",
          "text": [
            "{'babu': 23, 'jai': 22, 'dady': 40, 'mom': 42}\n"
          ]
        }
      ]
    },
    {
      "cell_type": "code",
      "source": [
        "\n",
        "for key,value in d.items():\n",
        "  print(\"key\")\n",
        "  print(key)\n",
        "  print(\"value\")\n",
        "  print(value)\n",
        "  print(\"*\"*10)"
      ],
      "metadata": {
        "colab": {
          "base_uri": "https://localhost:8080/"
        },
        "id": "DZ5e5HMceUDA",
        "outputId": "92351344-28a0-4a27-9c87-19e4946ea6e4"
      },
      "execution_count": 43,
      "outputs": [
        {
          "output_type": "stream",
          "name": "stdout",
          "text": [
            "key\n",
            "babu\n",
            "value\n",
            "23\n",
            "**********\n",
            "key\n",
            "jai\n",
            "value\n",
            "22\n",
            "**********\n",
            "key\n",
            "dady\n",
            "value\n",
            "40\n",
            "**********\n",
            "key\n",
            "mom\n",
            "value\n",
            "42\n",
            "**********\n"
          ]
        }
      ]
    },
    {
      "cell_type": "code",
      "source": [
        "name=\"nagendra\"\n",
        "print(type(name))\n",
        "x=(\"nagendra\")\n",
        "print(type(x))\n",
        "y=[\"nagendra\"]\n",
        "print(type(y))\n"
      ],
      "metadata": {
        "colab": {
          "base_uri": "https://localhost:8080/"
        },
        "id": "ZVK8Sdo5nRZy",
        "outputId": "c4bc4997-3289-48b3-d516-b50f35b9505a"
      },
      "execution_count": 48,
      "outputs": [
        {
          "output_type": "stream",
          "name": "stdout",
          "text": [
            "<class 'str'>\n",
            "<class 'str'>\n",
            "<class 'list'>\n"
          ]
        }
      ]
    },
    {
      "cell_type": "code",
      "source": [
        "a=(\"naga\",\"babu\")\n",
        "print(type(a))"
      ],
      "metadata": {
        "colab": {
          "base_uri": "https://localhost:8080/"
        },
        "id": "wpDHHPQbtqHF",
        "outputId": "1dc2305e-9a40-4667-c831-a64717c6f390"
      },
      "execution_count": 50,
      "outputs": [
        {
          "output_type": "stream",
          "name": "stdout",
          "text": [
            "<class 'tuple'>\n"
          ]
        }
      ]
    },
    {
      "cell_type": "code",
      "source": [
        "a=(\"babu\")\n",
        "print(type(a))"
      ],
      "metadata": {
        "colab": {
          "base_uri": "https://localhost:8080/"
        },
        "id": "e0kMAsGot9l7",
        "outputId": "8c8bd5ce-5b2b-437c-b0b9-65e9ce51f4b5"
      },
      "execution_count": 51,
      "outputs": [
        {
          "output_type": "stream",
          "name": "stdout",
          "text": [
            "<class 'str'>\n"
          ]
        }
      ]
    },
    {
      "cell_type": "code",
      "source": [
        "lst = [3,4,6,1,2]\n",
        "lst[1:2] = [7,8]\n",
        "print(lst)"
      ],
      "metadata": {
        "colab": {
          "base_uri": "https://localhost:8080/"
        },
        "id": "Fj61O43GuEU1",
        "outputId": "63da1ad8-3743-4266-f225-895f300a4b4f"
      },
      "execution_count": 52,
      "outputs": [
        {
          "output_type": "stream",
          "name": "stdout",
          "text": [
            "[3, 7, 8, 6, 1, 2]\n"
          ]
        }
      ]
    },
    {
      "cell_type": "code",
      "source": [
        "l=[1,2,3]\n",
        "l[1:2]=[5,4]\n",
        "l"
      ],
      "metadata": {
        "colab": {
          "base_uri": "https://localhost:8080/"
        },
        "id": "tqe8G6Tpueuo",
        "outputId": "1ef46613-3db5-4aac-cd94-d2fac9a4a24a"
      },
      "execution_count": 53,
      "outputs": [
        {
          "output_type": "execute_result",
          "data": {
            "text/plain": [
              "[1, 5, 4, 3]"
            ]
          },
          "metadata": {},
          "execution_count": 53
        }
      ]
    },
    {
      "cell_type": "code",
      "source": [
        "l=[0,1,2,3,4,5,6]\n",
        "l[0:5]=[1,1]\n",
        "print(l)\n"
      ],
      "metadata": {
        "colab": {
          "base_uri": "https://localhost:8080/"
        },
        "id": "Qyr2EHPkute-",
        "outputId": "0561b4d4-64c6-4016-a67f-6227c80513df"
      },
      "execution_count": 55,
      "outputs": [
        {
          "output_type": "stream",
          "name": "stdout",
          "text": [
            "[1, 1, 5, 6]\n"
          ]
        }
      ]
    },
    {
      "cell_type": "code",
      "source": [
        "l=[1,2,3]*3\n",
        "l"
      ],
      "metadata": {
        "colab": {
          "base_uri": "https://localhost:8080/"
        },
        "id": "3EV0p3RgvA6c",
        "outputId": "5a27e6ed-e27e-45dc-d660-99bf0af702c2"
      },
      "execution_count": 57,
      "outputs": [
        {
          "output_type": "execute_result",
          "data": {
            "text/plain": [
              "[1, 2, 3, 1, 2, 3, 1, 2, 3]"
            ]
          },
          "metadata": {},
          "execution_count": 57
        }
      ]
    },
    {
      "cell_type": "code",
      "source": [
        "l=(1,2,3)*3\n",
        "l"
      ],
      "metadata": {
        "colab": {
          "base_uri": "https://localhost:8080/"
        },
        "id": "RSYn_UJpvbIx",
        "outputId": "6c2df87d-4052-4490-d212-ccb49397de9f"
      },
      "execution_count": 59,
      "outputs": [
        {
          "output_type": "execute_result",
          "data": {
            "text/plain": [
              "(1, 2, 3, 1, 2, 3, 1, 2, 3)"
            ]
          },
          "metadata": {},
          "execution_count": 59
        }
      ]
    },
    {
      "cell_type": "code",
      "source": [
        "l=[]*3\n",
        "l"
      ],
      "metadata": {
        "colab": {
          "base_uri": "https://localhost:8080/"
        },
        "id": "10Eu4uF5vf8C",
        "outputId": "91db4849-b92c-41c8-861d-3b696c8d3e69"
      },
      "execution_count": 61,
      "outputs": [
        {
          "output_type": "execute_result",
          "data": {
            "text/plain": [
              "[]"
            ]
          },
          "metadata": {},
          "execution_count": 61
        }
      ]
    },
    {
      "cell_type": "markdown",
      "source": [
        "# **Functions**"
      ],
      "metadata": {
        "id": "U68odhswMzmj"
      }
    },
    {
      "cell_type": "code",
      "source": [
        "print(\"iam good boy take care\")"
      ],
      "metadata": {
        "colab": {
          "base_uri": "https://localhost:8080/"
        },
        "id": "TYzXb3mUwIdh",
        "outputId": "0c9cb404-0953-4f1f-e71f-d9df1f460a1a"
      },
      "execution_count": 1,
      "outputs": [
        {
          "output_type": "stream",
          "name": "stdout",
          "text": [
            "iam good boy take care\n"
          ]
        }
      ]
    },
    {
      "cell_type": "code",
      "source": [
        "input(\"oye who iam\")"
      ],
      "metadata": {
        "colab": {
          "base_uri": "https://localhost:8080/",
          "height": 53
        },
        "id": "WKWxIymJM74D",
        "outputId": "236daa24-3875-41d4-9349-942e17237e4a"
      },
      "execution_count": 2,
      "outputs": [
        {
          "name": "stdout",
          "output_type": "stream",
          "text": [
            "oye who iambabu\n"
          ]
        },
        {
          "output_type": "execute_result",
          "data": {
            "text/plain": [
              "'babu'"
            ],
            "application/vnd.google.colaboratory.intrinsic+json": {
              "type": "string"
            }
          },
          "metadata": {},
          "execution_count": 2
        }
      ]
    },
    {
      "cell_type": "code",
      "source": [
        "x=([1,2,3,4,5,6])\n",
        "print(\"\")\n",
        "\n",
        "print(\".max func=\",   max(x))\n",
        "print(\".len func=\",len(x))\n",
        "print(\".min func=\",min(x))\n",
        "print(\".sort func=\",sorted(x, reverse=True))\n",
        "print(\".round func=\",round(2.68,1))\n",
        "print(\"\")"
      ],
      "metadata": {
        "colab": {
          "base_uri": "https://localhost:8080/"
        },
        "id": "x_FqUkebNAd_",
        "outputId": "14d9e0cc-af39-49bb-b407-64f924426ffd"
      },
      "execution_count": 20,
      "outputs": [
        {
          "output_type": "stream",
          "name": "stdout",
          "text": [
            "\n",
            ".max func= 6\n",
            ".len func= 6\n",
            ".min func= 1\n",
            ".sort func= [6, 5, 4, 3, 2, 1]\n",
            ".round func= 2.7\n",
            "\n"
          ]
        }
      ]
    },
    {
      "cell_type": "code",
      "source": [
        "round(1.96,1)"
      ],
      "metadata": {
        "colab": {
          "base_uri": "https://localhost:8080/"
        },
        "id": "domPm0MFPG-o",
        "outputId": "0d777a20-0dd7-4807-eed2-3078ebe09480"
      },
      "execution_count": 27,
      "outputs": [
        {
          "output_type": "execute_result",
          "data": {
            "text/plain": [
              "2.0"
            ]
          },
          "metadata": {},
          "execution_count": 27
        }
      ]
    },
    {
      "cell_type": "code",
      "source": [
        "print(round(1.99))\n",
        "print(round(1.96,1))\n",
        "print(round(1.68,1))"
      ],
      "metadata": {
        "colab": {
          "base_uri": "https://localhost:8080/"
        },
        "id": "visuLgdLQ6hV",
        "outputId": "1d037f87-7c50-4d8a-dd56-3b89e9579f76"
      },
      "execution_count": 41,
      "outputs": [
        {
          "output_type": "stream",
          "name": "stdout",
          "text": [
            "2\n",
            "2.0\n",
            "1.7\n"
          ]
        }
      ]
    },
    {
      "cell_type": "code",
      "source": [
        "x=([1,2,3,4,5,6])\n",
        "print(sum(x))"
      ],
      "metadata": {
        "colab": {
          "base_uri": "https://localhost:8080/"
        },
        "id": "FC5bc0rzRgC-",
        "outputId": "a661f60b-fb3d-4413-8bcf-fb663f11bf8c"
      },
      "execution_count": 44,
      "outputs": [
        {
          "output_type": "stream",
          "name": "stdout",
          "text": [
            "21\n"
          ]
        }
      ]
    },
    {
      "cell_type": "code",
      "source": [
        " L1 = [10, 20, 30, 25, 32, 45, 50] \n",
        " L2 = [80, 70, 78, 55, 62]\n",
        " print(sum(L1+L2))\n"
      ],
      "metadata": {
        "colab": {
          "base_uri": "https://localhost:8080/"
        },
        "id": "MRfeSQ4dUMAA",
        "outputId": "22812963-5b4d-4cda-f359-da615942998e"
      },
      "execution_count": 46,
      "outputs": [
        {
          "output_type": "stream",
          "name": "stdout",
          "text": [
            "557\n"
          ]
        }
      ]
    },
    {
      "cell_type": "code",
      "source": [
        "L1 = [10, 20, 30, 25, 32, 45, 50] \n",
        "L2 = [80, 70, 78, 55, 62]\n",
        "s1=L1.copy()\n",
        "s2=L2.copy()\n",
        "print(sum(s1)-sum(s2))"
      ],
      "metadata": {
        "colab": {
          "base_uri": "https://localhost:8080/"
        },
        "id": "XQUXB9DZUy_V",
        "outputId": "d721240e-007c-4634-bf59-dbc2da43b5a3"
      },
      "execution_count": 49,
      "outputs": [
        {
          "output_type": "stream",
          "name": "stdout",
          "text": [
            "-133\n"
          ]
        }
      ]
    },
    {
      "cell_type": "code",
      "source": [
        "x=\"abcdef\"\n",
        "x.capitalize()"
      ],
      "metadata": {
        "colab": {
          "base_uri": "https://localhost:8080/",
          "height": 36
        },
        "id": "TVpv9lr0VjNB",
        "outputId": "678f662f-f467-41bf-ce47-77463e0ac983"
      },
      "execution_count": 50,
      "outputs": [
        {
          "output_type": "execute_result",
          "data": {
            "text/plain": [
              "'Abcdef'"
            ],
            "application/vnd.google.colaboratory.intrinsic+json": {
              "type": "string"
            }
          },
          "metadata": {},
          "execution_count": 50
        }
      ]
    },
    {
      "cell_type": "code",
      "source": [
        "x.replace('a',\"Nagenraabu \")"
      ],
      "metadata": {
        "colab": {
          "base_uri": "https://localhost:8080/",
          "height": 36
        },
        "id": "lcTzV_LbY50h",
        "outputId": "9a1f4660-003a-414f-e2cf-9fbd7c5fb0c9"
      },
      "execution_count": 52,
      "outputs": [
        {
          "output_type": "execute_result",
          "data": {
            "text/plain": [
              "'Nagenraabu bcdef'"
            ],
            "application/vnd.google.colaboratory.intrinsic+json": {
              "type": "string"
            }
          },
          "metadata": {},
          "execution_count": 52
        }
      ]
    },
    {
      "cell_type": "code",
      "source": [
        "dir(math)"
      ],
      "metadata": {
        "colab": {
          "base_uri": "https://localhost:8080/",
          "height": 165
        },
        "id": "JLH5w71UZAKU",
        "outputId": "d1f8abe4-b7e1-4495-aefc-74e3e8ec093d"
      },
      "execution_count": 53,
      "outputs": [
        {
          "output_type": "error",
          "ename": "NameError",
          "evalue": "ignored",
          "traceback": [
            "\u001b[0;31m---------------------------------------------------------------------------\u001b[0m",
            "\u001b[0;31mNameError\u001b[0m                                 Traceback (most recent call last)",
            "\u001b[0;32m<ipython-input-53-dba301b0095e>\u001b[0m in \u001b[0;36m<module>\u001b[0;34m\u001b[0m\n\u001b[0;32m----> 1\u001b[0;31m \u001b[0mdir\u001b[0m\u001b[0;34m(\u001b[0m\u001b[0mmath\u001b[0m\u001b[0;34m)\u001b[0m\u001b[0;34m\u001b[0m\u001b[0;34m\u001b[0m\u001b[0m\n\u001b[0m",
            "\u001b[0;31mNameError\u001b[0m: name 'math' is not defined"
          ]
        }
      ]
    },
    {
      "cell_type": "code",
      "source": [
        "import math"
      ],
      "metadata": {
        "id": "WvvxOW6_kAxt"
      },
      "execution_count": 54,
      "outputs": []
    },
    {
      "cell_type": "code",
      "source": [
        "dir(math)"
      ],
      "metadata": {
        "colab": {
          "base_uri": "https://localhost:8080/"
        },
        "id": "Ic5ZUAO-kJzJ",
        "outputId": "3c8d6c4f-5c62-4edd-a2ae-0138fdd030a4"
      },
      "execution_count": 55,
      "outputs": [
        {
          "output_type": "execute_result",
          "data": {
            "text/plain": [
              "['__doc__',\n",
              " '__loader__',\n",
              " '__name__',\n",
              " '__package__',\n",
              " '__spec__',\n",
              " 'acos',\n",
              " 'acosh',\n",
              " 'asin',\n",
              " 'asinh',\n",
              " 'atan',\n",
              " 'atan2',\n",
              " 'atanh',\n",
              " 'ceil',\n",
              " 'comb',\n",
              " 'copysign',\n",
              " 'cos',\n",
              " 'cosh',\n",
              " 'degrees',\n",
              " 'dist',\n",
              " 'e',\n",
              " 'erf',\n",
              " 'erfc',\n",
              " 'exp',\n",
              " 'expm1',\n",
              " 'fabs',\n",
              " 'factorial',\n",
              " 'floor',\n",
              " 'fmod',\n",
              " 'frexp',\n",
              " 'fsum',\n",
              " 'gamma',\n",
              " 'gcd',\n",
              " 'hypot',\n",
              " 'inf',\n",
              " 'isclose',\n",
              " 'isfinite',\n",
              " 'isinf',\n",
              " 'isnan',\n",
              " 'isqrt',\n",
              " 'ldexp',\n",
              " 'lgamma',\n",
              " 'log',\n",
              " 'log10',\n",
              " 'log1p',\n",
              " 'log2',\n",
              " 'modf',\n",
              " 'nan',\n",
              " 'perm',\n",
              " 'pi',\n",
              " 'pow',\n",
              " 'prod',\n",
              " 'radians',\n",
              " 'remainder',\n",
              " 'sin',\n",
              " 'sinh',\n",
              " 'sqrt',\n",
              " 'tan',\n",
              " 'tanh',\n",
              " 'tau',\n",
              " 'trunc']"
            ]
          },
          "metadata": {},
          "execution_count": 55
        }
      ]
    },
    {
      "cell_type": "code",
      "source": [
        "import calendar"
      ],
      "metadata": {
        "id": "00cIF5u_kLqS"
      },
      "execution_count": 56,
      "outputs": []
    },
    {
      "cell_type": "code",
      "source": [
        "cal=calendar.month(1999,4)\n",
        "print(cal)"
      ],
      "metadata": {
        "colab": {
          "base_uri": "https://localhost:8080/"
        },
        "id": "juhS8yySkcqd",
        "outputId": "9ef4b67b-2ba6-4425-ed5b-02230bbf6e04"
      },
      "execution_count": 59,
      "outputs": [
        {
          "output_type": "stream",
          "name": "stdout",
          "text": [
            "     April 1999\n",
            "Mo Tu We Th Fr Sa Su\n",
            "          1  2  3  4\n",
            " 5  6  7  8  9 10 11\n",
            "12 13 14 15 16 17 18\n",
            "19 20 21 22 23 24 25\n",
            "26 27 28 29 30\n",
            "\n"
          ]
        }
      ]
    },
    {
      "cell_type": "code",
      "source": [
        "def func():\n",
        "  print(\"babu\")\n",
        "func()"
      ],
      "metadata": {
        "colab": {
          "base_uri": "https://localhost:8080/"
        },
        "id": "nYnGdQD0koR5",
        "outputId": "57be29c1-7464-4e5d-92a2-add8f20a4365"
      },
      "execution_count": 66,
      "outputs": [
        {
          "output_type": "stream",
          "name": "stdout",
          "text": [
            "babu\n"
          ]
        }
      ]
    },
    {
      "cell_type": "code",
      "source": [
        "def x():\n",
        "  print(\"ba\")\n",
        "x()"
      ],
      "metadata": {
        "colab": {
          "base_uri": "https://localhost:8080/"
        },
        "id": "EZtWrSYNl3oi",
        "outputId": "33829bb6-2300-4a68-86eb-14884ceaf672"
      },
      "execution_count": 68,
      "outputs": [
        {
          "output_type": "stream",
          "name": "stdout",
          "text": [
            "ba\n"
          ]
        }
      ]
    },
    {
      "cell_type": "code",
      "source": [
        "def x(num1,num2):\n",
        "  num3=num1+num2\n",
        "  return(f\"wen add these two {num1} and {num2} result is {num3}\")\n",
        "x(4,5)"
      ],
      "metadata": {
        "colab": {
          "base_uri": "https://localhost:8080/",
          "height": 36
        },
        "id": "TOLJ9xF4nAPf",
        "outputId": "908dbae1-31c8-4491-8e0d-d59ddb7ae462"
      },
      "execution_count": 71,
      "outputs": [
        {
          "output_type": "execute_result",
          "data": {
            "text/plain": [
              "'wen add these two 4 and 5 result is 9'"
            ],
            "application/vnd.google.colaboratory.intrinsic+json": {
              "type": "string"
            }
          },
          "metadata": {},
          "execution_count": 71
        }
      ]
    },
    {
      "cell_type": "code",
      "source": [
        "num=([1,2,3,4,5,6])\n",
        "n=map(lambda x: x*2,num)\n",
        "list(n)"
      ],
      "metadata": {
        "colab": {
          "base_uri": "https://localhost:8080/"
        },
        "id": "glST3rEGnn4i",
        "outputId": "ee920b45-308c-4ae7-df0d-f9a075f224dd"
      },
      "execution_count": 78,
      "outputs": [
        {
          "output_type": "execute_result",
          "data": {
            "text/plain": [
              "[2, 4, 6, 8, 10, 12]"
            ]
          },
          "metadata": {},
          "execution_count": 78
        }
      ]
    },
    {
      "cell_type": "code",
      "source": [
        "num=[10,20,30,40,50]\n",
        "res=map(lambda abd: abd+2,num)\n",
        "list(res)"
      ],
      "metadata": {
        "colab": {
          "base_uri": "https://localhost:8080/"
        },
        "id": "_D5rEU8FpTl2",
        "outputId": "b382e7b6-d763-422d-a270-711eb831f9d1"
      },
      "execution_count": 80,
      "outputs": [
        {
          "output_type": "execute_result",
          "data": {
            "text/plain": [
              "[12, 22, 32, 42, 52]"
            ]
          },
          "metadata": {},
          "execution_count": 80
        }
      ]
    },
    {
      "cell_type": "code",
      "source": [
        "num=[1,2,3,4,5,6]\n",
        "print(sum(num,1))"
      ],
      "metadata": {
        "colab": {
          "base_uri": "https://localhost:8080/"
        },
        "id": "2XXKyculp7Zm",
        "outputId": "2b8db68b-8f67-4425-b1c0-11a6f6ff94e3"
      },
      "execution_count": 82,
      "outputs": [
        {
          "output_type": "stream",
          "name": "stdout",
          "text": [
            "22\n"
          ]
        }
      ]
    },
    {
      "cell_type": "code",
      "source": [
        "x=[1,0,2,0,3,0,4,0,5,0]\n",
        "y=sum(x)\n",
        "y**2"
      ],
      "metadata": {
        "colab": {
          "base_uri": "https://localhost:8080/"
        },
        "id": "BUJOmzFvrGNC",
        "outputId": "ccca4190-0840-47dd-a15b-3ef9f7c6359e"
      },
      "execution_count": 91,
      "outputs": [
        {
          "output_type": "execute_result",
          "data": {
            "text/plain": [
              "225"
            ]
          },
          "metadata": {},
          "execution_count": 91
        }
      ]
    },
    {
      "cell_type": "code",
      "source": [
        "class car(object):\n",
        "  def my_method(self):\n",
        "    print(\"I am a Swift Dzire 900\")\n",
        "    maruti = car()\n",
        "    maruti.my_method()"
      ],
      "metadata": {
        "id": "v7XBjdfirMBp"
      },
      "execution_count": 98,
      "outputs": []
    },
    {
      "cell_type": "code",
      "source": [
        "import numpy"
      ],
      "metadata": {
        "id": "_yvpEQkxt-56"
      },
      "execution_count": 100,
      "outputs": []
    },
    {
      "cell_type": "code",
      "source": [
        "def say(x,y=1):\n",
        "  print(x*y)\n",
        "say(\"hello\")\n",
        "say(\"world\",5)\n"
      ],
      "metadata": {
        "colab": {
          "base_uri": "https://localhost:8080/"
        },
        "id": "0R7C02pMuBA8",
        "outputId": "4fcbecfa-3cef-4f92-92be-234799c48abd"
      },
      "execution_count": 105,
      "outputs": [
        {
          "output_type": "stream",
          "name": "stdout",
          "text": [
            "hello\n",
            "worldworldworldworldworld\n"
          ]
        }
      ]
    },
    {
      "cell_type": "code",
      "source": [],
      "metadata": {
        "id": "BPYVeu3OujtD"
      },
      "execution_count": null,
      "outputs": []
    }
  ]
}